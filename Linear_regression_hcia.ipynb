{
  "nbformat": 4,
  "nbformat_minor": 0,
  "metadata": {
    "colab": {
      "name": "Linear-regression-hcia.ipynb",
      "provenance": [],
      "authorship_tag": "ABX9TyMG8IZHsC+6bJNfV1ZBKdeH",
      "include_colab_link": true
    },
    "kernelspec": {
      "name": "python3",
      "display_name": "Python 3"
    },
    "language_info": {
      "name": "python"
    }
  },
  "cells": [
    {
      "cell_type": "markdown",
      "metadata": {
        "id": "view-in-github",
        "colab_type": "text"
      },
      "source": [
        "<a href=\"https://colab.research.google.com/github/dandoush/HCIA/blob/main/Linear_regression_hcia.ipynb\" target=\"_parent\"><img src=\"https://colab.research.google.com/assets/colab-badge.svg\" alt=\"Open In Colab\"/></a>"
      ]
    },
    {
      "cell_type": "code",
      "execution_count": 3,
      "metadata": {
        "id": "GAvRMzjaNlU4"
      },
      "outputs": [],
      "source": [
        "import numpy as np\n",
        "import matplotlib.pyplot as plt\n",
        "\n",
        "#define dataset\n",
        "\n",
        "# Features\n",
        "\n",
        "x = [3, 21, 22, 34, 54, 34, 55, 67, 89, 90]\n",
        "\n",
        "# y lable\n",
        "y= [1, 10, 14, 34, 44, 26, 22, 67, 79, 90]\n"
      ]
    },
    {
      "cell_type": "code",
      "source": [
        "# convert to array\n",
        "x = np.array(x)\n",
        "y = np.array(y)\n",
        "type (y)\n"
      ],
      "metadata": {
        "colab": {
          "base_uri": "https://localhost:8080/"
        },
        "id": "8RmHXvnYOqWU",
        "outputId": "d12c608f-0719-4067-99bf-d3d680992264"
      },
      "execution_count": 4,
      "outputs": [
        {
          "output_type": "execute_result",
          "data": {
            "text/plain": [
              "numpy.ndarray"
            ]
          },
          "metadata": {},
          "execution_count": 4
        }
      ]
    },
    {
      "cell_type": "code",
      "source": [
        "#plot\n",
        "plt.scatter(x,y)\n"
      ],
      "metadata": {
        "colab": {
          "base_uri": "https://localhost:8080/",
          "height": 282
        },
        "id": "h8Vvxj77O4w0",
        "outputId": "86acf11c-7261-497d-f5d3-f145c696dbcf"
      },
      "execution_count": 5,
      "outputs": [
        {
          "output_type": "execute_result",
          "data": {
            "text/plain": [
              "<matplotlib.collections.PathCollection at 0x7fd4ab27e850>"
            ]
          },
          "metadata": {},
          "execution_count": 5
        },
        {
          "output_type": "display_data",
          "data": {
            "image/png": "[encoded data removed]",
            "text/plain": [
              "<Figure size 432x288 with 1 Axes>"
            ]
          },
          "metadata": {
            "needs_background": "light"
          }
        }
      ]
    },
    {
      "cell_type": "code",
      "source": [
        "#define the model as straight line\n",
        "def model(a, b, x):\n",
        "  return a*x + b\n"
      ],
      "metadata": {
        "id": "UpubQJZkPIHs"
      },
      "execution_count": 6,
      "outputs": []
    },
    {
      "cell_type": "markdown",
      "source": [
        "Affter defining our model that is a line, we need to define our error/loss function"
      ],
      "metadata": {
        "id": "9aGf1JfEPiQP"
      }
    },
    {
      "cell_type": "code",
      "source": [
        "# loss function that takes a, b, the features x and target y parametres / MSE\n",
        "def loss(a, b, x, y):\n",
        "  num = len(x) #number of samples\n",
        "  prediction = model (a, b, x) #predict an output based on input sample, then we can sub predict value from real and find the error, see day 3 HCIA 27/01/22\n",
        "  return (0.5/num)*np.square(prediction - y).sum()\n"
      ],
      "metadata": {
        "id": "UoYCydPgPo5K"
      },
      "execution_count": 7,
      "outputs": []
    },
    {
      "cell_type": "markdown",
      "source": [
        "Let us do optimization based on grandied descend for searching minimum loss function (see after differential derivatives respect to a and b, day 3 HCIA\n"
      ],
      "metadata": {
        "id": "eQz_RUjwRI07"
      }
    },
    {
      "cell_type": "code",
      "source": [
        "#optimization function\n",
        "def optimize(a, b, x, y):\n",
        "  num = len(x)\n",
        "  prediction = model (a, b, x)\n",
        "  #define the 2 derivatives with respect to a and then to b\n",
        "  d_a = (1.0/num)*((prediction-y)*x).sum()\n",
        "  d_b = (1.0/num)*(prediction-y).sum()\n",
        "  #define now the new values of parametres a and b such that we minimize the loss\n",
        "  a = a - lr*d_a #lr is the learning rate\n",
        "  b = b - lr*d_b\n",
        "  return a,b\n",
        "\n",
        "\n"
      ],
      "metadata": {
        "id": "TyRMqfgyRYPD"
      },
      "execution_count": 8,
      "outputs": []
    },
    {
      "cell_type": "code",
      "source": [
        "#Define how many iteration do we have before to stop searching local minimum\n",
        "def iterate(a, b, x, y, steps):\n",
        "  for i in range(steps):\n",
        "    a,b = optimize(a, b, x, y)\n",
        "    return a,b"
      ],
      "metadata": {
        "id": "4QZ1DW_NSy4S"
      },
      "execution_count": 9,
      "outputs": []
    },
    {
      "cell_type": "code",
      "source": [
        "#Hyperparameter\n",
        "lr = 0.0001\n"
      ],
      "metadata": {
        "id": "lLIemkJeTamP"
      },
      "execution_count": 10,
      "outputs": []
    },
    {
      "cell_type": "code",
      "source": [
        "#initialize a and b as random value\n",
        "a = np.random.rand(1)\n",
        "b = np.random.rand(1)\n",
        "a, b\n"
      ],
      "metadata": {
        "colab": {
          "base_uri": "https://localhost:8080/"
        },
        "id": "M82lP_5ITg5Z",
        "outputId": "46cfa243-888f-4e06-d951-cf6be1d699c9"
      },
      "execution_count": 26,
      "outputs": [
        {
          "output_type": "execute_result",
          "data": {
            "text/plain": [
              "(array([0.31759457]), array([0.03216125]))"
            ]
          },
          "metadata": {},
          "execution_count": 26
        }
      ]
    },
    {
      "cell_type": "code",
      "source": [
        "# Lunch our model to test\n",
        "a, b = iterate (a,b, x, y, 10000)\n",
        "prediction = model (a,b,x)\n",
        "los = loss(a, b, x, y)\n",
        "print (a, b, los)\n",
        "plt.scatter(x,y)\n",
        "plt.plot(x,prediction)\n"
      ],
      "metadata": {
        "colab": {
          "base_uri": "https://localhost:8080/",
          "height": 299
        },
        "id": "ShV1nBSmTywL",
        "outputId": "db578192-2b28-4668-c614-7c19ab345a73"
      },
      "execution_count": 38,
      "outputs": [
        {
          "output_type": "stream",
          "name": "stdout",
          "text": [
            "[0.85904674] [0.0383086] 51.2677208850243\n"
          ]
        },
        {
          "output_type": "execute_result",
          "data": {
            "text/plain": [
              "[<matplotlib.lines.Line2D at 0x7fd4aa383c10>]"
            ]
          },
          "metadata": {},
          "execution_count": 38
        },
        {
          "output_type": "display_data",
          "data": {
            "image/png": "[encoded data removed]",
            "text/plain": [
              "<Figure size 432x288 with 1 Axes>"
            ]
          },
          "metadata": {
            "needs_background": "light"
          }
        }
      ]
    }
  ]
}